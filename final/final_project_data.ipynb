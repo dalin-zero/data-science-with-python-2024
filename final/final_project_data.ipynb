{
  "cells": [
    {
      "cell_type": "code",
      "execution_count": 35,
      "metadata": {
        "id": "K5ywg_kWvO9W"
      },
      "outputs": [],
      "source": [
        "import yfinance as yf\n",
        "import pandas as pd\n",
        "import mplfinance as mpf\n",
        "import matplotlib.pyplot as plt\n",
        "import numpy as np\n",
        "import pandas as pd\n",
        "import tensorflow as tf\n",
        "from tensorflow.keras.models import Sequential\n",
        "from tensorflow.keras.layers import LSTM, Dense\n",
        "from sklearn.preprocessing import MinMaxScaler\n",
        "import matplotlib.pyplot as plt\n",
        "from sklearn.metrics import mean_squared_error, mean_absolute_error, r2_score\n"
      ]
    },
    {
      "cell_type": "markdown",
      "metadata": {},
      "source": [
        "DATA UNDERSTANDING\n",
        "\n",
        "Historical data"
      ]
    },
    {
      "cell_type": "code",
      "execution_count": 36,
      "metadata": {
        "colab": {
          "base_uri": "https://localhost:8080/",
          "height": 303
        },
        "id": "Oju0gbR8xuSd",
        "outputId": "c7776bcb-bf69-4c57-d73b-bc062bcde8ae"
      },
      "outputs": [
        {
          "name": "stderr",
          "output_type": "stream",
          "text": [
            "[*********************100%***********************]  1 of 1 completed\n"
          ]
        },
        {
          "data": {
            "text/html": [
              "<div>\n",
              "<style scoped>\n",
              "    .dataframe tbody tr th:only-of-type {\n",
              "        vertical-align: middle;\n",
              "    }\n",
              "\n",
              "    .dataframe tbody tr th {\n",
              "        vertical-align: top;\n",
              "    }\n",
              "\n",
              "    .dataframe thead tr th {\n",
              "        text-align: left;\n",
              "    }\n",
              "\n",
              "    .dataframe thead tr:last-of-type th {\n",
              "        text-align: right;\n",
              "    }\n",
              "</style>\n",
              "<table border=\"1\" class=\"dataframe\">\n",
              "  <thead>\n",
              "    <tr>\n",
              "      <th>Price</th>\n",
              "      <th>Close</th>\n",
              "      <th>High</th>\n",
              "      <th>Low</th>\n",
              "      <th>Open</th>\n",
              "      <th>Volume</th>\n",
              "    </tr>\n",
              "    <tr>\n",
              "      <th>Ticker</th>\n",
              "      <th>AOT.BK</th>\n",
              "      <th>AOT.BK</th>\n",
              "      <th>AOT.BK</th>\n",
              "      <th>AOT.BK</th>\n",
              "      <th>AOT.BK</th>\n",
              "    </tr>\n",
              "    <tr>\n",
              "      <th>Date</th>\n",
              "      <th></th>\n",
              "      <th></th>\n",
              "      <th></th>\n",
              "      <th></th>\n",
              "      <th></th>\n",
              "    </tr>\n",
              "  </thead>\n",
              "  <tbody>\n",
              "    <tr>\n",
              "      <th>2023-01-03</th>\n",
              "      <td>73.600090</td>\n",
              "      <td>74.336091</td>\n",
              "      <td>73.600090</td>\n",
              "      <td>73.845424</td>\n",
              "      <td>21950400</td>\n",
              "    </tr>\n",
              "    <tr>\n",
              "      <th>2023-01-04</th>\n",
              "      <td>73.109421</td>\n",
              "      <td>73.845422</td>\n",
              "      <td>73.109421</td>\n",
              "      <td>73.845422</td>\n",
              "      <td>17672700</td>\n",
              "    </tr>\n",
              "    <tr>\n",
              "      <th>2023-01-05</th>\n",
              "      <td>73.600090</td>\n",
              "      <td>74.090757</td>\n",
              "      <td>72.618755</td>\n",
              "      <td>72.864089</td>\n",
              "      <td>35034500</td>\n",
              "    </tr>\n",
              "    <tr>\n",
              "      <th>2023-01-06</th>\n",
              "      <td>74.090759</td>\n",
              "      <td>74.336093</td>\n",
              "      <td>73.845426</td>\n",
              "      <td>74.090759</td>\n",
              "      <td>22225400</td>\n",
              "    </tr>\n",
              "    <tr>\n",
              "      <th>2023-01-09</th>\n",
              "      <td>73.845421</td>\n",
              "      <td>74.581422</td>\n",
              "      <td>73.600087</td>\n",
              "      <td>74.581422</td>\n",
              "      <td>22078800</td>\n",
              "    </tr>\n",
              "  </tbody>\n",
              "</table>\n",
              "</div>"
            ],
            "text/plain": [
              "Price           Close       High        Low       Open    Volume\n",
              "Ticker         AOT.BK     AOT.BK     AOT.BK     AOT.BK    AOT.BK\n",
              "Date                                                            \n",
              "2023-01-03  73.600090  74.336091  73.600090  73.845424  21950400\n",
              "2023-01-04  73.109421  73.845422  73.109421  73.845422  17672700\n",
              "2023-01-05  73.600090  74.090757  72.618755  72.864089  35034500\n",
              "2023-01-06  74.090759  74.336093  73.845426  74.090759  22225400\n",
              "2023-01-09  73.845421  74.581422  73.600087  74.581422  22078800"
            ]
          },
          "execution_count": 36,
          "metadata": {},
          "output_type": "execute_result"
        }
      ],
      "source": [
        "# ดึงข้อมูลหุ้น AOT\n",
        "stock_symbol = \"AOT.BK\"  # สำหรับตลาดหลักทรัพย์ไทย (SET)\n",
        "df = yf.download(stock_symbol, start=\"2023-01-01\", end=\"2023-12-31\")\n",
        "df.head()\n"
      ]
    },
    {
      "cell_type": "code",
      "execution_count": 15,
      "metadata": {
        "id": "Uz0kDFEWyKbG"
      },
      "outputs": [],
      "source": [
        "excel_filename = \"AOT_Stock_2023.xlsx\"\n",
        "df.to_excel(excel_filename)"
      ]
    },
    {
      "cell_type": "code",
      "execution_count": 17,
      "metadata": {
        "colab": {
          "base_uri": "https://localhost:8080/",
          "height": 206
        },
        "id": "5bGRtqLnyODO",
        "outputId": "da589744-f7c9-47d8-801f-dff8b2a1cbd8"
      },
      "outputs": [
        {
          "data": {
            "text/html": [
              "<div>\n",
              "<style scoped>\n",
              "    .dataframe tbody tr th:only-of-type {\n",
              "        vertical-align: middle;\n",
              "    }\n",
              "\n",
              "    .dataframe tbody tr th {\n",
              "        vertical-align: top;\n",
              "    }\n",
              "\n",
              "    .dataframe thead th {\n",
              "        text-align: right;\n",
              "    }\n",
              "</style>\n",
              "<table border=\"1\" class=\"dataframe\">\n",
              "  <thead>\n",
              "    <tr style=\"text-align: right;\">\n",
              "      <th></th>\n",
              "      <th>Price</th>\n",
              "      <th>Close</th>\n",
              "      <th>High</th>\n",
              "      <th>Low</th>\n",
              "      <th>Open</th>\n",
              "      <th>Volume</th>\n",
              "    </tr>\n",
              "  </thead>\n",
              "  <tbody>\n",
              "    <tr>\n",
              "      <th>0</th>\n",
              "      <td>Ticker</td>\n",
              "      <td>AOT.BK</td>\n",
              "      <td>AOT.BK</td>\n",
              "      <td>AOT.BK</td>\n",
              "      <td>AOT.BK</td>\n",
              "      <td>AOT.BK</td>\n",
              "    </tr>\n",
              "    <tr>\n",
              "      <th>1</th>\n",
              "      <td>Date</td>\n",
              "      <td>NaN</td>\n",
              "      <td>NaN</td>\n",
              "      <td>NaN</td>\n",
              "      <td>NaN</td>\n",
              "      <td>NaN</td>\n",
              "    </tr>\n",
              "    <tr>\n",
              "      <th>2</th>\n",
              "      <td>2023-01-03 00:00:00</td>\n",
              "      <td>73.60009</td>\n",
              "      <td>74.336091</td>\n",
              "      <td>73.60009</td>\n",
              "      <td>73.845424</td>\n",
              "      <td>21950400</td>\n",
              "    </tr>\n",
              "    <tr>\n",
              "      <th>3</th>\n",
              "      <td>2023-01-04 00:00:00</td>\n",
              "      <td>73.109421</td>\n",
              "      <td>73.845422</td>\n",
              "      <td>73.109421</td>\n",
              "      <td>73.845422</td>\n",
              "      <td>17672700</td>\n",
              "    </tr>\n",
              "    <tr>\n",
              "      <th>4</th>\n",
              "      <td>2023-01-05 00:00:00</td>\n",
              "      <td>73.60009</td>\n",
              "      <td>74.090757</td>\n",
              "      <td>72.618755</td>\n",
              "      <td>72.864089</td>\n",
              "      <td>35034500</td>\n",
              "    </tr>\n",
              "  </tbody>\n",
              "</table>\n",
              "</div>"
            ],
            "text/plain": [
              "                 Price      Close       High        Low       Open    Volume\n",
              "0               Ticker     AOT.BK     AOT.BK     AOT.BK     AOT.BK    AOT.BK\n",
              "1                 Date        NaN        NaN        NaN        NaN       NaN\n",
              "2  2023-01-03 00:00:00   73.60009  74.336091   73.60009  73.845424  21950400\n",
              "3  2023-01-04 00:00:00  73.109421  73.845422  73.109421  73.845422  17672700\n",
              "4  2023-01-05 00:00:00   73.60009  74.090757  72.618755  72.864089  35034500"
            ]
          },
          "execution_count": 17,
          "metadata": {},
          "output_type": "execute_result"
        }
      ],
      "source": [
        "df1=pd.read_excel(\"AOT_Stock_2023.xlsx\")\n",
        "df1.head()"
      ]
    },
    {
      "cell_type": "code",
      "execution_count": 18,
      "metadata": {
        "colab": {
          "base_uri": "https://localhost:8080/",
          "height": 206
        },
        "id": "W2-AtqRyyPE4",
        "outputId": "29b5972a-43db-4fdc-f2ae-14d0195430b7"
      },
      "outputs": [
        {
          "data": {
            "text/html": [
              "<div>\n",
              "<style scoped>\n",
              "    .dataframe tbody tr th:only-of-type {\n",
              "        vertical-align: middle;\n",
              "    }\n",
              "\n",
              "    .dataframe tbody tr th {\n",
              "        vertical-align: top;\n",
              "    }\n",
              "\n",
              "    .dataframe thead th {\n",
              "        text-align: right;\n",
              "    }\n",
              "</style>\n",
              "<table border=\"1\" class=\"dataframe\">\n",
              "  <thead>\n",
              "    <tr style=\"text-align: right;\">\n",
              "      <th></th>\n",
              "      <th>Price</th>\n",
              "      <th>Close</th>\n",
              "      <th>High</th>\n",
              "      <th>Low</th>\n",
              "      <th>Open</th>\n",
              "      <th>Volume</th>\n",
              "    </tr>\n",
              "  </thead>\n",
              "  <tbody>\n",
              "    <tr>\n",
              "      <th>2</th>\n",
              "      <td>2023-01-03 00:00:00</td>\n",
              "      <td>73.60009</td>\n",
              "      <td>74.336091</td>\n",
              "      <td>73.60009</td>\n",
              "      <td>73.845424</td>\n",
              "      <td>21950400</td>\n",
              "    </tr>\n",
              "    <tr>\n",
              "      <th>3</th>\n",
              "      <td>2023-01-04 00:00:00</td>\n",
              "      <td>73.109421</td>\n",
              "      <td>73.845422</td>\n",
              "      <td>73.109421</td>\n",
              "      <td>73.845422</td>\n",
              "      <td>17672700</td>\n",
              "    </tr>\n",
              "    <tr>\n",
              "      <th>4</th>\n",
              "      <td>2023-01-05 00:00:00</td>\n",
              "      <td>73.60009</td>\n",
              "      <td>74.090757</td>\n",
              "      <td>72.618755</td>\n",
              "      <td>72.864089</td>\n",
              "      <td>35034500</td>\n",
              "    </tr>\n",
              "    <tr>\n",
              "      <th>5</th>\n",
              "      <td>2023-01-06 00:00:00</td>\n",
              "      <td>74.090759</td>\n",
              "      <td>74.336093</td>\n",
              "      <td>73.845426</td>\n",
              "      <td>74.090759</td>\n",
              "      <td>22225400</td>\n",
              "    </tr>\n",
              "    <tr>\n",
              "      <th>6</th>\n",
              "      <td>2023-01-09 00:00:00</td>\n",
              "      <td>73.845421</td>\n",
              "      <td>74.581422</td>\n",
              "      <td>73.600087</td>\n",
              "      <td>74.581422</td>\n",
              "      <td>22078800</td>\n",
              "    </tr>\n",
              "  </tbody>\n",
              "</table>\n",
              "</div>"
            ],
            "text/plain": [
              "                 Price      Close       High        Low       Open    Volume\n",
              "2  2023-01-03 00:00:00   73.60009  74.336091   73.60009  73.845424  21950400\n",
              "3  2023-01-04 00:00:00  73.109421  73.845422  73.109421  73.845422  17672700\n",
              "4  2023-01-05 00:00:00   73.60009  74.090757  72.618755  72.864089  35034500\n",
              "5  2023-01-06 00:00:00  74.090759  74.336093  73.845426  74.090759  22225400\n",
              "6  2023-01-09 00:00:00  73.845421  74.581422  73.600087  74.581422  22078800"
            ]
          },
          "execution_count": 18,
          "metadata": {},
          "output_type": "execute_result"
        }
      ],
      "source": [
        "df1 = df1.drop(df1.index[[0, 1]])\n",
        "df1.head()"
      ]
    },
    {
      "cell_type": "code",
      "execution_count": 19,
      "metadata": {
        "colab": {
          "base_uri": "https://localhost:8080/"
        },
        "id": "wIte3INKySwn",
        "outputId": "6e28242b-1aa4-4b45-89e0-7491c2314f18"
      },
      "outputs": [
        {
          "name": "stdout",
          "output_type": "stream",
          "text": [
            "Missing Values:\n",
            " Price   Ticker\n",
            "Close   AOT.BK    0\n",
            "High    AOT.BK    0\n",
            "Low     AOT.BK    0\n",
            "Open    AOT.BK    0\n",
            "Volume  AOT.BK    0\n",
            "dtype: int64\n"
          ]
        }
      ],
      "source": [
        "# เช็คข้อมูลที่หายไป\n",
        "print(\"Missing Values:\\n\", df.isnull().sum())"
      ]
    },
    {
      "cell_type": "code",
      "execution_count": 20,
      "metadata": {
        "colab": {
          "base_uri": "https://localhost:8080/"
        },
        "id": "BmbffjNFyVw9",
        "outputId": "cfa39f3b-28b6-45c0-f025-cfa74e3f0024"
      },
      "outputs": [
        {
          "name": "stdout",
          "output_type": "stream",
          "text": [
            "<class 'pandas.core.frame.DataFrame'>\n",
            "RangeIndex: 243 entries, 2 to 244\n",
            "Data columns (total 6 columns):\n",
            " #   Column  Non-Null Count  Dtype \n",
            "---  ------  --------------  ----- \n",
            " 0   Price   243 non-null    object\n",
            " 1   Close   243 non-null    object\n",
            " 2   High    243 non-null    object\n",
            " 3   Low     243 non-null    object\n",
            " 4   Open    243 non-null    object\n",
            " 5   Volume  243 non-null    object\n",
            "dtypes: object(6)\n",
            "memory usage: 11.5+ KB\n"
          ]
        }
      ],
      "source": [
        "df1.info()"
      ]
    },
    {
      "cell_type": "code",
      "execution_count": 21,
      "metadata": {
        "colab": {
          "base_uri": "https://localhost:8080/",
          "height": 229
        },
        "id": "KBGwxs59yY4I",
        "outputId": "500fe93d-1cd0-4510-9519-169c50890773"
      },
      "outputs": [
        {
          "data": {
            "text/html": [
              "<div>\n",
              "<style scoped>\n",
              "    .dataframe tbody tr th:only-of-type {\n",
              "        vertical-align: middle;\n",
              "    }\n",
              "\n",
              "    .dataframe tbody tr th {\n",
              "        vertical-align: top;\n",
              "    }\n",
              "\n",
              "    .dataframe thead th {\n",
              "        text-align: right;\n",
              "    }\n",
              "</style>\n",
              "<table border=\"1\" class=\"dataframe\">\n",
              "  <thead>\n",
              "    <tr style=\"text-align: right;\">\n",
              "      <th></th>\n",
              "      <th>Price</th>\n",
              "      <th>Close</th>\n",
              "      <th>High</th>\n",
              "      <th>Low</th>\n",
              "      <th>Open</th>\n",
              "      <th>Volume</th>\n",
              "    </tr>\n",
              "  </thead>\n",
              "  <tbody>\n",
              "    <tr>\n",
              "      <th>count</th>\n",
              "      <td>243</td>\n",
              "      <td>243.000000</td>\n",
              "      <td>243.000000</td>\n",
              "      <td>243.000000</td>\n",
              "      <td>243.000000</td>\n",
              "      <td>243</td>\n",
              "    </tr>\n",
              "    <tr>\n",
              "      <th>unique</th>\n",
              "      <td>243</td>\n",
              "      <td>54.000000</td>\n",
              "      <td>140.000000</td>\n",
              "      <td>143.000000</td>\n",
              "      <td>165.000000</td>\n",
              "      <td>243</td>\n",
              "    </tr>\n",
              "    <tr>\n",
              "      <th>top</th>\n",
              "      <td>2023-01-03 00:00:00</td>\n",
              "      <td>70.410759</td>\n",
              "      <td>70.656093</td>\n",
              "      <td>70.165425</td>\n",
              "      <td>70.656093</td>\n",
              "      <td>21950400</td>\n",
              "    </tr>\n",
              "    <tr>\n",
              "      <th>freq</th>\n",
              "      <td>1</td>\n",
              "      <td>21.000000</td>\n",
              "      <td>8.000000</td>\n",
              "      <td>7.000000</td>\n",
              "      <td>7.000000</td>\n",
              "      <td>1</td>\n",
              "    </tr>\n",
              "  </tbody>\n",
              "</table>\n",
              "</div>"
            ],
            "text/plain": [
              "                      Price       Close        High         Low        Open  \\\n",
              "count                   243  243.000000  243.000000  243.000000  243.000000   \n",
              "unique                  243   54.000000  140.000000  143.000000  165.000000   \n",
              "top     2023-01-03 00:00:00   70.410759   70.656093   70.165425   70.656093   \n",
              "freq                      1   21.000000    8.000000    7.000000    7.000000   \n",
              "\n",
              "          Volume  \n",
              "count        243  \n",
              "unique       243  \n",
              "top     21950400  \n",
              "freq           1  "
            ]
          },
          "execution_count": 21,
          "metadata": {},
          "output_type": "execute_result"
        }
      ],
      "source": [
        "df1.describe()"
      ]
    },
    {
      "cell_type": "code",
      "execution_count": 22,
      "metadata": {
        "colab": {
          "base_uri": "https://localhost:8080/",
          "height": 564
        },
        "id": "Rv9jeeq9yeRm",
        "outputId": "8bf175fa-9c7d-4597-c501-3f2b4eb2a4f5"
      },
      "outputs": [
        {
          "data": {
            "image/png": "[encoded data removed]",
            "text/plain": [
              "<Figure size 1200x600 with 1 Axes>"
            ]
          },
          "metadata": {},
          "output_type": "display_data"
        }
      ],
      "source": [
        "# สร้างกราฟราคาปิดของหุ้น AOT\n",
        "plt.figure(figsize=(12, 6))\n",
        "plt.plot(df.index, df[\"Close\"], label=\"Closing Price\", linewidth=2, color='blue')\n",
        "\n",
        "plt.title(\"AOT Stock Closing Price (2023)\")\n",
        "plt.xlabel(\"Date\")\n",
        "plt.ylabel(\"Price (THB)\")\n",
        "plt.legend()\n",
        "plt.grid()\n",
        "\n",
        "# แสดงกราฟ\n",
        "plt.show()\n"
      ]
    },
    {
      "cell_type": "code",
      "execution_count": null,
      "metadata": {
        "colab": {
          "base_uri": "https://localhost:8080/"
        },
        "id": "zkxQ8K-hyjeN",
        "outputId": "ac459a6a-e391-440a-8281-3eb75ba7f4bc"
      },
      "outputs": [
        {
          "name": "stdout",
          "output_type": "stream",
          "text": [
            "Epoch 1/50\n",
            "10/10 [==============================] - 9s 54ms/step - loss: 0.1206\n",
            "Epoch 2/50\n",
            "10/10 [==============================] - 1s 58ms/step - loss: 0.0125\n",
            "Epoch 3/50\n",
            "10/10 [==============================] - 1s 51ms/step - loss: 0.0067\n",
            "Epoch 4/50\n",
            "10/10 [==============================] - 0s 45ms/step - loss: 0.0050\n",
            "Epoch 5/50\n",
            "10/10 [==============================] - 0s 48ms/step - loss: 0.0049\n",
            "Epoch 6/50\n",
            "10/10 [==============================] - 1s 61ms/step - loss: 0.0045\n",
            "Epoch 7/50\n",
            "10/10 [==============================] - 1s 72ms/step - loss: 0.0041\n",
            "Epoch 8/50\n",
            "10/10 [==============================] - 0s 49ms/step - loss: 0.0039\n",
            "Epoch 9/50\n",
            "10/10 [==============================] - 1s 57ms/step - loss: 0.0040\n",
            "Epoch 10/50\n",
            "10/10 [==============================] - 1s 57ms/step - loss: 0.0036\n",
            "Epoch 11/50\n",
            "10/10 [==============================] - 1s 51ms/step - loss: 0.0038\n",
            "Epoch 12/50\n",
            "10/10 [==============================] - 1s 52ms/step - loss: 0.0035\n",
            "Epoch 13/50\n",
            "10/10 [==============================] - 1s 56ms/step - loss: 0.0034\n",
            "Epoch 14/50\n",
            "10/10 [==============================] - 1s 58ms/step - loss: 0.0033\n",
            "Epoch 15/50\n",
            "10/10 [==============================] - 1s 56ms/step - loss: 0.0040\n",
            "Epoch 16/50\n",
            "10/10 [==============================] - 0s 48ms/step - loss: 0.0035\n",
            "Epoch 17/50\n",
            "10/10 [==============================] - 1s 53ms/step - loss: 0.0035\n",
            "Epoch 18/50\n",
            "10/10 [==============================] - 1s 63ms/step - loss: 0.0033\n",
            "Epoch 19/50\n",
            "10/10 [==============================] - 1s 52ms/step - loss: 0.0032\n",
            "Epoch 20/50\n",
            "10/10 [==============================] - 1s 55ms/step - loss: 0.0032\n",
            "Epoch 21/50\n",
            "10/10 [==============================] - 1s 58ms/step - loss: 0.0038\n",
            "Epoch 22/50\n",
            "10/10 [==============================] - 1s 56ms/step - loss: 0.0033\n",
            "Epoch 23/50\n",
            "10/10 [==============================] - 1s 54ms/step - loss: 0.0033\n",
            "Epoch 24/50\n",
            "10/10 [==============================] - 1s 68ms/step - loss: 0.0037\n",
            "Epoch 25/50\n",
            "10/10 [==============================] - 1s 58ms/step - loss: 0.0028\n",
            "Epoch 26/50\n",
            "10/10 [==============================] - 1s 56ms/step - loss: 0.0032\n",
            "Epoch 27/50\n",
            "10/10 [==============================] - 1s 55ms/step - loss: 0.0030\n",
            "Epoch 28/50\n",
            "10/10 [==============================] - 1s 57ms/step - loss: 0.0026\n",
            "Epoch 29/50\n",
            "10/10 [==============================] - 1s 56ms/step - loss: 0.0027\n",
            "Epoch 30/50\n",
            "10/10 [==============================] - 1s 54ms/step - loss: 0.0028\n",
            "Epoch 31/50\n",
            "10/10 [==============================] - 1s 57ms/step - loss: 0.0030\n",
            "Epoch 32/50\n",
            "10/10 [==============================] - 1s 56ms/step - loss: 0.0027\n",
            "Epoch 33/50\n",
            "10/10 [==============================] - 1s 63ms/step - loss: 0.0027\n",
            "Epoch 34/50\n",
            "10/10 [==============================] - 1s 60ms/step - loss: 0.0027\n",
            "Epoch 35/50\n",
            "10/10 [==============================] - 1s 60ms/step - loss: 0.0029\n",
            "Epoch 36/50\n",
            "10/10 [==============================] - 1s 54ms/step - loss: 0.0027\n",
            "Epoch 37/50\n",
            "10/10 [==============================] - 1s 68ms/step - loss: 0.0025\n",
            "Epoch 38/50\n",
            "10/10 [==============================] - 1s 55ms/step - loss: 0.0024\n",
            "Epoch 39/50\n",
            "10/10 [==============================] - 0s 50ms/step - loss: 0.0023\n",
            "Epoch 40/50\n",
            "10/10 [==============================] - 0s 44ms/step - loss: 0.0031\n",
            "Epoch 41/50\n",
            "10/10 [==============================] - 0s 41ms/step - loss: 0.0027\n",
            "Epoch 42/50\n",
            "10/10 [==============================] - 1s 57ms/step - loss: 0.0028\n",
            "Epoch 43/50\n",
            "10/10 [==============================] - 0s 47ms/step - loss: 0.0025\n",
            "Epoch 44/50\n",
            "10/10 [==============================] - 0s 39ms/step - loss: 0.0024\n",
            "Epoch 45/50\n",
            "10/10 [==============================] - 0s 43ms/step - loss: 0.0024\n",
            "Epoch 46/50\n",
            "10/10 [==============================] - 1s 54ms/step - loss: 0.0024\n",
            "Epoch 47/50\n",
            "10/10 [==============================] - 1s 51ms/step - loss: 0.0020\n",
            "Epoch 48/50\n",
            "10/10 [==============================] - 1s 63ms/step - loss: 0.0020\n",
            "Epoch 49/50\n",
            "10/10 [==============================] - 0s 46ms/step - loss: 0.0021\n",
            "Epoch 50/50\n",
            "10/10 [==============================] - 1s 51ms/step - loss: 0.0021\n"
          ]
        }
      ],
      "source": [
        "\n",
        "\n",
        "data = df[[\"Close\"]].values\n",
        "\n",
        "# สเกลข้อมูลให้อยู่ในช่วง 0-1\n",
        "scaler = MinMaxScaler(feature_range=(0, 1))\n",
        "scaled_data = scaler.fit_transform(data)\n",
        "\n",
        "# ฟังก์ชันสร้างชุดข้อมูลแบบ Time Series\n",
        "def create_dataset(dataset, time_step=60):\n",
        "    X, Y = [], []\n",
        "    for i in range(len(dataset) - time_step - 1):\n",
        "        X.append(dataset[i:(i + time_step), 0])\n",
        "        Y.append(dataset[i + time_step, 0])\n",
        "    return np.array(X), np.array(Y)\n",
        "\n",
        "# ตั้งค่าช่วงเวลา 60 วันย้อนหลังเพื่อพยากรณ์วันถัดไป\n",
        "time_step = 60\n",
        "X, Y = create_dataset(scaled_data, time_step)\n",
        "\n",
        "# แบ่ง Train-Test (80-20)\n",
        "train_size = int(len(X) * 0.8)\n",
        "X_train, X_test = X[:train_size], X[train_size:]\n",
        "Y_train, Y_test = Y[:train_size], Y[train_size:]\n",
        "\n",
        "# แปลงให้เป็นรูปแบบที่เหมาะสมกับ LSTM\n",
        "X_train = X_train.reshape((X_train.shape[0], X_train.shape[1], 1))\n",
        "X_test = X_test.reshape((X_test.shape[0], X_test.shape[1], 1))\n",
        "\n",
        "# สร้างโมเดล LSTM\n",
        "model = Sequential([\n",
        "    LSTM(50, return_sequences=True, input_shape=(time_step, 1)),\n",
        "    LSTM(50, return_sequences=False),\n",
        "    Dense(25),\n",
        "    Dense(1)\n",
        "])\n",
        "\n",
        "# คอมไพล์โมเดล\n",
        "model.compile(optimizer=\"adam\", loss=\"mean_squared_error\")\n",
        "\n",
        "# เทรนโมเดล\n",
        "model.fit(X_train, Y_train, batch_size=16, epochs=50, verbose=1)\n",
        "\n",
        "# ทำการพยากรณ์ปี 2024\n",
        "future_days = 365  # จำนวนวันที่ต้องการทำนาย\n",
        "future_predictions = []\n",
        "\n",
        "# ใช้ข้อมูล 60 วันสุดท้ายเป็นจุดเริ่มต้น\n",
        "last_60_days = scaled_data[-time_step:].reshape(1, time_step, 1)\n",
        "\n",
        "for _ in range(future_days):\n",
        "    pred = model.predict(last_60_days, verbose=0)\n",
        "    pred = pred.reshape(1, 1, 1)  # แปลงให้มีขนาด 3 มิติ\n",
        "    future_predictions.append(pred[0, 0])\n",
        "    last_60_days = np.append(last_60_days[:, 1:, :], pred, axis=1)\n",
        "\n",
        "# แปลงค่ากลับเป็นราคาหุ้นจริง\n",
        "future_predictions = scaler.inverse_transform(np.array(future_predictions).reshape(-1, 1))\n",
        "\n",
        "# แปลง last_date ให้เป็น datetime\n",
        "last_date = pd.to_datetime(df.index[-1])\n",
        "\n",
        "# สร้างช่วงวันที่สำหรับปี 2024\n",
        "future_dates = pd.date_range(start=last_date + pd.Timedelta(days=1), periods=future_days, freq='D')\n"
      ]
    },
    {
      "cell_type": "code",
      "execution_count": 24,
      "metadata": {
        "colab": {
          "base_uri": "https://localhost:8080/",
          "height": 564
        },
        "id": "G8Atckzpy0eV",
        "outputId": "fae909f5-8dfe-42bf-d35c-1c6d53a0e0d2"
      },
      "outputs": [
        {
          "data": {
            "image/png": "[encoded data removed]",
            "text/plain": [
              "<Figure size 1200x600 with 1 Axes>"
            ]
          },
          "metadata": {},
          "output_type": "display_data"
        }
      ],
      "source": [
        "# ตรวจสอบและแปลง df.index และ future_dates เป็น datetime\n",
        "df.index = pd.to_datetime(df.index, errors=\"coerce\")\n",
        "future_dates = pd.to_datetime(future_dates, errors=\"coerce\")\n",
        "\n",
        "# วาดกราฟทำนายราคาหุ้นปี 2024\n",
        "plt.figure(figsize=(12, 6))\n",
        "plt.plot(df.index, df[\"Close\"], label=\"Actual Price\", color=\"blue\")\n",
        "plt.plot(future_dates, future_predictions, label=\"Predicted Price (2024)\", color=\"red\", linestyle=\"dashed\")\n",
        "plt.title(\"AOT Stock Price Prediction for 2024\")\n",
        "plt.xlabel(\"Date\")\n",
        "plt.ylabel(\"Price (THB)\")\n",
        "plt.legend()\n",
        "plt.grid()\n",
        "plt.show()\n"
      ]
    },
    {
      "cell_type": "code",
      "execution_count": 25,
      "metadata": {
        "id": "pm9UFRwV0TC7"
      },
      "outputs": [],
      "source": [
        "\n",
        "# สร้าง DataFrame สำหรับผลลัพธ์การพยากรณ์\n",
        "predicted_df = pd.DataFrame({\n",
        "    \"Date\": future_dates,\n",
        "    \"Predicted Price\": future_predictions.flatten()\n",
        "})\n"
      ]
    },
    {
      "cell_type": "code",
      "execution_count": 26,
      "metadata": {
        "colab": {
          "base_uri": "https://localhost:8080/",
          "height": 363
        },
        "id": "ja7VxHmr0w30",
        "outputId": "bc9b4df1-737b-4880-800f-643b57bfc751"
      },
      "outputs": [
        {
          "data": {
            "text/html": [
              "<div>\n",
              "<style scoped>\n",
              "    .dataframe tbody tr th:only-of-type {\n",
              "        vertical-align: middle;\n",
              "    }\n",
              "\n",
              "    .dataframe tbody tr th {\n",
              "        vertical-align: top;\n",
              "    }\n",
              "\n",
              "    .dataframe thead th {\n",
              "        text-align: right;\n",
              "    }\n",
              "</style>\n",
              "<table border=\"1\" class=\"dataframe\">\n",
              "  <thead>\n",
              "    <tr style=\"text-align: right;\">\n",
              "      <th></th>\n",
              "      <th>Date</th>\n",
              "      <th>Predicted Price</th>\n",
              "    </tr>\n",
              "  </thead>\n",
              "  <tbody>\n",
              "    <tr>\n",
              "      <th>0</th>\n",
              "      <td>2023-12-29</td>\n",
              "      <td>60.465385</td>\n",
              "    </tr>\n",
              "    <tr>\n",
              "      <th>1</th>\n",
              "      <td>2023-12-30</td>\n",
              "      <td>60.532658</td>\n",
              "    </tr>\n",
              "    <tr>\n",
              "      <th>2</th>\n",
              "      <td>2023-12-31</td>\n",
              "      <td>60.652664</td>\n",
              "    </tr>\n",
              "    <tr>\n",
              "      <th>3</th>\n",
              "      <td>2024-01-01</td>\n",
              "      <td>60.803375</td>\n",
              "    </tr>\n",
              "    <tr>\n",
              "      <th>4</th>\n",
              "      <td>2024-01-02</td>\n",
              "      <td>60.971458</td>\n",
              "    </tr>\n",
              "    <tr>\n",
              "      <th>5</th>\n",
              "      <td>2024-01-03</td>\n",
              "      <td>61.148926</td>\n",
              "    </tr>\n",
              "    <tr>\n",
              "      <th>6</th>\n",
              "      <td>2024-01-04</td>\n",
              "      <td>61.330982</td>\n",
              "    </tr>\n",
              "    <tr>\n",
              "      <th>7</th>\n",
              "      <td>2024-01-05</td>\n",
              "      <td>61.514759</td>\n",
              "    </tr>\n",
              "    <tr>\n",
              "      <th>8</th>\n",
              "      <td>2024-01-06</td>\n",
              "      <td>61.698559</td>\n",
              "    </tr>\n",
              "    <tr>\n",
              "      <th>9</th>\n",
              "      <td>2024-01-07</td>\n",
              "      <td>61.881363</td>\n",
              "    </tr>\n",
              "  </tbody>\n",
              "</table>\n",
              "</div>"
            ],
            "text/plain": [
              "        Date  Predicted Price\n",
              "0 2023-12-29        60.465385\n",
              "1 2023-12-30        60.532658\n",
              "2 2023-12-31        60.652664\n",
              "3 2024-01-01        60.803375\n",
              "4 2024-01-02        60.971458\n",
              "5 2024-01-03        61.148926\n",
              "6 2024-01-04        61.330982\n",
              "7 2024-01-05        61.514759\n",
              "8 2024-01-06        61.698559\n",
              "9 2024-01-07        61.881363"
            ]
          },
          "execution_count": 26,
          "metadata": {},
          "output_type": "execute_result"
        }
      ],
      "source": [
        "predicted_df.head(10)"
      ]
    },
    {
      "cell_type": "code",
      "execution_count": 29,
      "metadata": {},
      "outputs": [
        {
          "name": "stderr",
          "output_type": "stream",
          "text": [
            "[*********************100%***********************]  1 of 1 completed\n"
          ]
        },
        {
          "data": {
            "text/html": [
              "<div>\n",
              "<style scoped>\n",
              "    .dataframe tbody tr th:only-of-type {\n",
              "        vertical-align: middle;\n",
              "    }\n",
              "\n",
              "    .dataframe tbody tr th {\n",
              "        vertical-align: top;\n",
              "    }\n",
              "\n",
              "    .dataframe thead tr th {\n",
              "        text-align: left;\n",
              "    }\n",
              "\n",
              "    .dataframe thead tr:last-of-type th {\n",
              "        text-align: right;\n",
              "    }\n",
              "</style>\n",
              "<table border=\"1\" class=\"dataframe\">\n",
              "  <thead>\n",
              "    <tr>\n",
              "      <th>Price</th>\n",
              "      <th>Close</th>\n",
              "      <th>High</th>\n",
              "      <th>Low</th>\n",
              "      <th>Open</th>\n",
              "      <th>Volume</th>\n",
              "    </tr>\n",
              "    <tr>\n",
              "      <th>Ticker</th>\n",
              "      <th>AOT.BK</th>\n",
              "      <th>AOT.BK</th>\n",
              "      <th>AOT.BK</th>\n",
              "      <th>AOT.BK</th>\n",
              "      <th>AOT.BK</th>\n",
              "    </tr>\n",
              "    <tr>\n",
              "      <th>Date</th>\n",
              "      <th></th>\n",
              "      <th></th>\n",
              "      <th></th>\n",
              "      <th></th>\n",
              "      <th></th>\n",
              "    </tr>\n",
              "  </thead>\n",
              "  <tbody>\n",
              "    <tr>\n",
              "      <th>2024-01-03</th>\n",
              "      <td>61.703629</td>\n",
              "      <td>62.197258</td>\n",
              "      <td>61.210000</td>\n",
              "      <td>61.456814</td>\n",
              "      <td>40506100</td>\n",
              "    </tr>\n",
              "    <tr>\n",
              "      <th>2024-01-04</th>\n",
              "      <td>63.184517</td>\n",
              "      <td>63.184517</td>\n",
              "      <td>61.950444</td>\n",
              "      <td>61.950444</td>\n",
              "      <td>37899200</td>\n",
              "    </tr>\n",
              "    <tr>\n",
              "      <th>2024-01-05</th>\n",
              "      <td>62.690887</td>\n",
              "      <td>63.431331</td>\n",
              "      <td>62.197258</td>\n",
              "      <td>63.184516</td>\n",
              "      <td>41945900</td>\n",
              "    </tr>\n",
              "    <tr>\n",
              "      <th>2024-01-08</th>\n",
              "      <td>62.197258</td>\n",
              "      <td>62.937702</td>\n",
              "      <td>61.950443</td>\n",
              "      <td>62.937702</td>\n",
              "      <td>22082100</td>\n",
              "    </tr>\n",
              "    <tr>\n",
              "      <th>2024-01-09</th>\n",
              "      <td>61.950443</td>\n",
              "      <td>62.937701</td>\n",
              "      <td>61.950443</td>\n",
              "      <td>62.690887</td>\n",
              "      <td>13944500</td>\n",
              "    </tr>\n",
              "  </tbody>\n",
              "</table>\n",
              "</div>"
            ],
            "text/plain": [
              "Price           Close       High        Low       Open    Volume\n",
              "Ticker         AOT.BK     AOT.BK     AOT.BK     AOT.BK    AOT.BK\n",
              "Date                                                            \n",
              "2024-01-03  61.703629  62.197258  61.210000  61.456814  40506100\n",
              "2024-01-04  63.184517  63.184517  61.950444  61.950444  37899200\n",
              "2024-01-05  62.690887  63.431331  62.197258  63.184516  41945900\n",
              "2024-01-08  62.197258  62.937702  61.950443  62.937702  22082100\n",
              "2024-01-09  61.950443  62.937701  61.950443  62.690887  13944500"
            ]
          },
          "execution_count": 29,
          "metadata": {},
          "output_type": "execute_result"
        }
      ],
      "source": [
        "# ดึงข้อมูลหุ้น AOT\n",
        "stock_symbol = \"AOT.BK\"  # สำหรับตลาดหลักทรัพย์ไทย (SET)\n",
        "df = yf.download(stock_symbol, start=\"2024-01-01\", end=\"2024-12-31\")\n",
        "df.head()"
      ]
    },
    {
      "cell_type": "code",
      "execution_count": null,
      "metadata": {},
      "outputs": [
        {
          "name": "stdout",
          "output_type": "stream",
          "text": [
            "MSE: 6.2394\n",
            "RMSE: 2.4979\n",
            "MAE: 1.7125\n",
            "R² Score: 0.5750\n"
          ]
        }
      ],
      "source": [
        "# Predict on X_test, not future data\n",
        "Y_pred_test = model.predict(X_test, verbose=0)\n",
        "# Inverse transform predictions and actual labels\n",
        "Y_pred_test_original = scaler.inverse_transform(Y_pred_test.reshape(-1, 1))\n",
        "Y_test_original = scaler.inverse_transform(Y_test.reshape(-1, 1))\n",
        "\n",
        "mse = mean_squared_error(Y_test_original, Y_pred_test_original)\n",
        "rmse = np.sqrt(mse)\n",
        "mae = mean_absolute_error(Y_test_original, Y_pred_test_original)\n",
        "r2 = r2_score(Y_test_original, Y_pred_test_original)\n",
        "\n",
        "print(f'MSE: {mse:.4f}')\n",
        "print(f'RMSE: {rmse:.4f}')\n",
        "print(f'MAE: {mae:.4f}')\n",
        "print(f'R² Score: {r2:.4f}')\n",
        "\n"
      ]
    }
  ],
  "metadata": {
    "colab": {
      "provenance": []
    },
    "kernelspec": {
      "display_name": "Python 3",
      "language": "python",
      "name": "python3"
    },
    "language_info": {
      "codemirror_mode": {
        "name": "ipython",
        "version": 3
      },
      "file_extension": ".py",
      "mimetype": "text/x-python",
      "name": "python",
      "nbconvert_exporter": "python",
      "pygments_lexer": "ipython3",
      "version": "3.8.0"
    }
  },
  "nbformat": 4,
  "nbformat_minor": 0
}
